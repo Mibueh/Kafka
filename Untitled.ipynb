{
 "cells": [
  {
   "cell_type": "code",
   "execution_count": 7,
   "metadata": {},
   "outputs": [
    {
     "name": "stdout",
     "output_type": "stream",
     "text": [
      "<pyspark.context.SparkContext object at 0x7f5f24d52ba8>\n"
     ]
    }
   ],
   "source": [
    "print(sc)"
   ]
  },
  {
   "cell_type": "code",
   "execution_count": 8,
   "metadata": {},
   "outputs": [],
   "source": [
    "from pyspark import SparkContext\n",
    "from pyspark.streaming import StreamingContext\n",
    "from pyspark.streaming.kafka import KafkaUtils\n",
    "import json\n",
    "import tweepy\n",
    "from tweepy import OAuthHandler\n",
    "from tweepy import Stream\n",
    "import kafka\n",
    "from kafka import SimpleProducer, KafkaClient"
   ]
  },
  {
   "cell_type": "code",
   "execution_count": 9,
   "metadata": {},
   "outputs": [],
   "source": [
    "ssc = StreamingContext(sc,60)"
   ]
  },
  {
   "cell_type": "code",
   "execution_count": 10,
   "metadata": {},
   "outputs": [],
   "source": [
    "consumer_key=\"exmsIYKGTolSue6sqJnr3GXkO\"\n",
    "consumer_secret=\"oDMyBaBMAoL2j0OAYsCxXJRF6TX5c8XDXQRY5LrRM58oCQ5HpQ\"\n",
    "access_token=\"2716201822-b1hQfjiPis6yyiK3kdtCTk123S0n0nRTu8vhP5B\"\n",
    "access_token_secret=\"alSs9EV3S0p13vILEBxtfyMM9HSZr7eNTa01UJFJy3mcY\""
   ]
  },
  {
   "cell_type": "code",
   "execution_count": 11,
   "metadata": {},
   "outputs": [],
   "source": [
    "auth = tweepy.OAuthHandler(consumer_key, consumer_secret)\n",
    "auth.set_access_token(access_token, access_token_secret)\n",
    "api = tweepy.API(auth)"
   ]
  },
  {
   "cell_type": "code",
   "execution_count": 12,
   "metadata": {},
   "outputs": [],
   "source": [
    "class MyStreamListener(tweepy.StreamListener):\n",
    "    \n",
    "    def on_status(self, status):\n",
    "        for hashtag in status.entities['hashtags']:\n",
    "            print(hashtag['text'])\n",
    "    def on_error(self, status_code):\n",
    "        if status_code == 420:\n",
    "            #returning False in on_data disconnects the stream\n",
    "            return False"
   ]
  },
  {
   "cell_type": "code",
   "execution_count": 13,
   "metadata": {},
   "outputs": [],
   "source": [
    "myStreamListener = MyStreamListener()\n",
    "myStream = tweepy.Stream(auth = api.auth, listener=MyStreamListener())"
   ]
  },
  {
   "cell_type": "code",
   "execution_count": 14,
   "metadata": {},
   "outputs": [],
   "source": [
    "kafkaStream = KafkaUtils.createStream(ssc, 'localhost:2181', 'spark-streaming', {'psoe':1})"
   ]
  },
  {
   "cell_type": "code",
   "execution_count": null,
   "metadata": {},
   "outputs": [
    {
     "name": "stdout",
     "output_type": "stream",
     "text": [
      "MonteroEnRTVE\n",
      "sosprisiones\n",
      "funcionariosdeprisiones\n",
      "28A\n",
      "SiemprePSOE\n",
      "LaEspañaQueQuieres\n",
      "BCE\n",
      "JUR\n",
      "MonteroEnRTVE\n",
      "LOMCE\n",
      "Ley\n",
      "SiemprePSOE\n",
      "LaEspañaQueQuieres\n",
      "PSOE\n",
      "8M\n",
      "MonteroEnRTVE\n",
      "paro\n",
      "MonteroEnRTVE\n",
      "SiemprePSOE\n",
      "LaEspañaQueQuieres\n",
      "SiemprePSOE\n",
      "LaEspañaQueQuieres\n",
      "MonteroEnRTVE\n",
      "MonteroEnRTVE\n",
      "EXCLUSIVA\n",
      "paro\n",
      "28A\n",
      "28A\n",
      "MonteroEnRTVE\n",
      "monteroenrtve\n",
      "masppmasigualdad\n",
      "28a\n",
      "leonesp\n",
      "LaEspanaQueQuieresEsFeminista\n",
      "Derecha\n",
      "Izquierda\n",
      "Derecha\n",
      "Izquierda\n",
      "LaEspañaQueQuieresEsFeminista\n",
      "Castellón\n",
      "MonteroEnRTVE\n",
      "LaEspañaQueQuieresEsFeminista\n",
      "8Marzo\n",
      "28A\n",
      "MonteroEnRTVE\n",
      "8M\n",
      "MUGEJU\n",
      "8Marzo\n",
      "MonteroEnRTVE\n",
      "SiemprePSOE\n",
      "LaEspañaQueQuieres\n",
      "URGENTE\n",
      "8M\n",
      "8M\n",
      "EXCLUSIVA\n",
      "SiemprePSOE\n",
      "LaEspañaQueQuieres\n",
      "URGENTE\n",
      "Granada\n",
      "SiemprePsoe\n",
      "SiemprePedroSanchez\n",
      "PorEspaña\n",
      "EspañaViva\n",
      "SiguemeYTeSigoVOX\n",
      "MonteroEnRTVE\n",
      "EXCLUSIVA\n"
     ]
    }
   ],
   "source": [
    "myStream.filter(track=['PSOE'])"
   ]
  },
  {
   "cell_type": "code",
   "execution_count": null,
   "metadata": {},
   "outputs": [],
   "source": []
  }
 ],
 "metadata": {
  "kernelspec": {
   "display_name": "Python 3",
   "language": "python",
   "name": "python3"
  },
  "language_info": {
   "codemirror_mode": {
    "name": "ipython",
    "version": 3
   },
   "file_extension": ".py",
   "mimetype": "text/x-python",
   "name": "python",
   "nbconvert_exporter": "python",
   "pygments_lexer": "ipython3",
   "version": "3.5.6"
  }
 },
 "nbformat": 4,
 "nbformat_minor": 2
}
